{
 "cells": [
  {
   "cell_type": "markdown",
   "id": "e9bb860f",
   "metadata": {},
   "source": [
    "# LASSO REGRESSION  [ L1 REGULARIZATION ] "
   ]
  },
  {
   "cell_type": "code",
   "execution_count": null,
   "id": "1b2d8e8c",
   "metadata": {},
   "outputs": [],
   "source": [
    "\"\"\"Two form of lienar regression => Lasso Regression(l1 regularization) and Ridge Regression(l2 regularization)\n",
    "both are regularization technique\n",
    "both prevent over fitting \n",
    "by adding penalty term(L1 norm for lasso and l2 norm for ridge)\"\"\""
   ]
  },
  {
   "cell_type": "code",
   "execution_count": null,
   "id": "b570bf13",
   "metadata": {},
   "outputs": [],
   "source": [
    " \"\"\"coefficient - > relationship between input and output feature\n",
    "\n",
    "LASSO REGRESSION -> Least absolute shrinkage and selection operator\n",
    "    also called L1 regulariation\n",
    "        means adding penalty term to cost function to prevent overfitting\n",
    "            Penalty called l1 norm\n",
    "            \n",
    "main use => \"Shrinkage the cofficient\"\n",
    "[y = 0 +5x1 + 22x2] => [y = 0 +0.2 x1 + 1.2x2]\"\"\"\n"
   ]
  },
  {
   "cell_type": "markdown",
   "id": "75e35337",
   "metadata": {},
   "source": [
    "#### Main Use  =>  \"Shrinkage of the Cofficient\""
   ]
  },
  {
   "cell_type": "markdown",
   "id": "d9c8be69",
   "metadata": {},
   "source": [
    "### WHY PREFFERED OVER LINEAR REGRESSION\n",
    "\n",
    "- Automatic Feature selection (embedded feature selection technique)\n",
    "- Prevent overfitting\n",
    "- handel multicollinearity (input feature co-relatred to each other)\n",
    "- handel multi-dimentional data\n",
    "- bias variance tradeoff [Best Model - > low bias and low variance]"
   ]
  },
  {
   "cell_type": "markdown",
   "id": "795ca7de",
   "metadata": {},
   "source": [
    "### steps\n",
    "\n",
    "- perform linear regression and calculate coefficient\n",
    "- calculate MSE \n",
    "- calculate l1 norm(penalty) => alpha( |B1| + |B2|)  [by default alpha =1 , if too big important feature can be removed, too small irrelevant feature will be included\n",
    "- calculate cost function =>  MSE + l1 norm\n",
    "- Minimize the cost function by optimization technique -> gradient descent (best value of coefficient where cost function is minimum)"
   ]
  },
  {
   "cell_type": "markdown",
   "id": "e57ee970",
   "metadata": {},
   "source": [
    "### Code"
   ]
  },
  {
   "cell_type": "code",
   "execution_count": 2,
   "id": "32fbece7",
   "metadata": {},
   "outputs": [],
   "source": [
    "import numpy as np\n",
    "import pandas as pd\n",
    "import matplotlib.pyplot as plt\n",
    "\n",
    "from sklearn.datasets import load_diabetes\n",
    "from sklearn.model_selection import train_test_split\n",
    "from sklearn.linear_model import Lasso, LinearRegression\n",
    "from sklearn.metrics import mean_squared_error, r2_score"
   ]
  },
  {
   "cell_type": "code",
   "execution_count": 3,
   "id": "aa1b9161",
   "metadata": {},
   "outputs": [],
   "source": [
    "diabetes = load_diabetes()\n",
    "\n",
    "data = pd.DataFrame(diabetes.data, columns = diabetes.feature_names)\n",
    "data[\"target\"] = diabetes.target"
   ]
  },
  {
   "cell_type": "code",
   "execution_count": 4,
   "id": "ce663a3f",
   "metadata": {},
   "outputs": [
    {
     "data": {
      "text/html": [
       "<div>\n",
       "<style scoped>\n",
       "    .dataframe tbody tr th:only-of-type {\n",
       "        vertical-align: middle;\n",
       "    }\n",
       "\n",
       "    .dataframe tbody tr th {\n",
       "        vertical-align: top;\n",
       "    }\n",
       "\n",
       "    .dataframe thead th {\n",
       "        text-align: right;\n",
       "    }\n",
       "</style>\n",
       "<table border=\"1\" class=\"dataframe\">\n",
       "  <thead>\n",
       "    <tr style=\"text-align: right;\">\n",
       "      <th></th>\n",
       "      <th>age</th>\n",
       "      <th>sex</th>\n",
       "      <th>bmi</th>\n",
       "      <th>bp</th>\n",
       "      <th>s1</th>\n",
       "      <th>s2</th>\n",
       "      <th>s3</th>\n",
       "      <th>s4</th>\n",
       "      <th>s5</th>\n",
       "      <th>s6</th>\n",
       "      <th>target</th>\n",
       "    </tr>\n",
       "  </thead>\n",
       "  <tbody>\n",
       "    <tr>\n",
       "      <th>0</th>\n",
       "      <td>0.038076</td>\n",
       "      <td>0.050680</td>\n",
       "      <td>0.061696</td>\n",
       "      <td>0.021872</td>\n",
       "      <td>-0.044223</td>\n",
       "      <td>-0.034821</td>\n",
       "      <td>-0.043401</td>\n",
       "      <td>-0.002592</td>\n",
       "      <td>0.019907</td>\n",
       "      <td>-0.017646</td>\n",
       "      <td>151.0</td>\n",
       "    </tr>\n",
       "    <tr>\n",
       "      <th>1</th>\n",
       "      <td>-0.001882</td>\n",
       "      <td>-0.044642</td>\n",
       "      <td>-0.051474</td>\n",
       "      <td>-0.026328</td>\n",
       "      <td>-0.008449</td>\n",
       "      <td>-0.019163</td>\n",
       "      <td>0.074412</td>\n",
       "      <td>-0.039493</td>\n",
       "      <td>-0.068332</td>\n",
       "      <td>-0.092204</td>\n",
       "      <td>75.0</td>\n",
       "    </tr>\n",
       "    <tr>\n",
       "      <th>2</th>\n",
       "      <td>0.085299</td>\n",
       "      <td>0.050680</td>\n",
       "      <td>0.044451</td>\n",
       "      <td>-0.005670</td>\n",
       "      <td>-0.045599</td>\n",
       "      <td>-0.034194</td>\n",
       "      <td>-0.032356</td>\n",
       "      <td>-0.002592</td>\n",
       "      <td>0.002861</td>\n",
       "      <td>-0.025930</td>\n",
       "      <td>141.0</td>\n",
       "    </tr>\n",
       "    <tr>\n",
       "      <th>3</th>\n",
       "      <td>-0.089063</td>\n",
       "      <td>-0.044642</td>\n",
       "      <td>-0.011595</td>\n",
       "      <td>-0.036656</td>\n",
       "      <td>0.012191</td>\n",
       "      <td>0.024991</td>\n",
       "      <td>-0.036038</td>\n",
       "      <td>0.034309</td>\n",
       "      <td>0.022688</td>\n",
       "      <td>-0.009362</td>\n",
       "      <td>206.0</td>\n",
       "    </tr>\n",
       "    <tr>\n",
       "      <th>4</th>\n",
       "      <td>0.005383</td>\n",
       "      <td>-0.044642</td>\n",
       "      <td>-0.036385</td>\n",
       "      <td>0.021872</td>\n",
       "      <td>0.003935</td>\n",
       "      <td>0.015596</td>\n",
       "      <td>0.008142</td>\n",
       "      <td>-0.002592</td>\n",
       "      <td>-0.031988</td>\n",
       "      <td>-0.046641</td>\n",
       "      <td>135.0</td>\n",
       "    </tr>\n",
       "  </tbody>\n",
       "</table>\n",
       "</div>"
      ],
      "text/plain": [
       "        age       sex       bmi        bp        s1        s2        s3  \\\n",
       "0  0.038076  0.050680  0.061696  0.021872 -0.044223 -0.034821 -0.043401   \n",
       "1 -0.001882 -0.044642 -0.051474 -0.026328 -0.008449 -0.019163  0.074412   \n",
       "2  0.085299  0.050680  0.044451 -0.005670 -0.045599 -0.034194 -0.032356   \n",
       "3 -0.089063 -0.044642 -0.011595 -0.036656  0.012191  0.024991 -0.036038   \n",
       "4  0.005383 -0.044642 -0.036385  0.021872  0.003935  0.015596  0.008142   \n",
       "\n",
       "         s4        s5        s6  target  \n",
       "0 -0.002592  0.019907 -0.017646   151.0  \n",
       "1 -0.039493 -0.068332 -0.092204    75.0  \n",
       "2 -0.002592  0.002861 -0.025930   141.0  \n",
       "3  0.034309  0.022688 -0.009362   206.0  \n",
       "4 -0.002592 -0.031988 -0.046641   135.0  "
      ]
     },
     "execution_count": 4,
     "metadata": {},
     "output_type": "execute_result"
    }
   ],
   "source": [
    "data.head()"
   ]
  },
  {
   "cell_type": "code",
   "execution_count": 8,
   "id": "c1a51d08",
   "metadata": {},
   "outputs": [],
   "source": [
    "x = data.drop(\"target\", axis=1)\n",
    "y = data[\"target\"]\n",
    "\n",
    "x_train, x_test, y_train, y_test = train_test_split(x,y,test_size = 0.2, random_state = 42)"
   ]
  },
  {
   "cell_type": "markdown",
   "id": "9c049b39",
   "metadata": {},
   "source": [
    "#### Apply linear regression"
   ]
  },
  {
   "cell_type": "code",
   "execution_count": 9,
   "id": "925adc65",
   "metadata": {},
   "outputs": [],
   "source": [
    "lr = LinearRegression()\n",
    "lr.fit(x_train, y_train)\n",
    "y_pred = lr.predict(x_test)"
   ]
  },
  {
   "cell_type": "code",
   "execution_count": 11,
   "id": "53c2ec44",
   "metadata": {},
   "outputs": [
    {
     "name": "stdout",
     "output_type": "stream",
     "text": [
      "Mean Squared Error: 2900.193628493482\n",
      "r2 score: 0.45260276297191937\n"
     ]
    }
   ],
   "source": [
    "mse = mean_squared_error(y_test, y_pred)\n",
    "r2 = r2_score(y_test, y_pred)\n",
    "\n",
    "print(f\"Mean Squared Error: {mse}\")\n",
    "print(f\"r2 score: {r2}\")"
   ]
  },
  {
   "cell_type": "code",
   "execution_count": 13,
   "id": "96be05d3",
   "metadata": {},
   "outputs": [
    {
     "data": {
      "text/plain": [
       "age     37.904021\n",
       "sex   -241.964362\n",
       "bmi    542.428759\n",
       "bp     347.703844\n",
       "s1    -931.488846\n",
       "s2     518.062277\n",
       "s3     163.419983\n",
       "s4     275.317902\n",
       "s5     736.198859\n",
       "s6      48.670657\n",
       "dtype: float64"
      ]
     },
     "execution_count": 13,
     "metadata": {},
     "output_type": "execute_result"
    }
   ],
   "source": [
    "# Display the coefficient\n",
    "coef = pd.Series(lr.coef_, index = x.columns)\n",
    "coef"
   ]
  },
  {
   "cell_type": "markdown",
   "id": "0dd9f9d0",
   "metadata": {},
   "source": [
    "### Apply Lasso Regression"
   ]
  },
  {
   "cell_type": "code",
   "execution_count": 15,
   "id": "814fae30",
   "metadata": {},
   "outputs": [],
   "source": [
    "lasso = Lasso()\n",
    "lasso.fit(x_train, y_train)\n",
    "y_pred = lasso.predict(x_test)"
   ]
  },
  {
   "cell_type": "code",
   "execution_count": 16,
   "id": "d654bacc",
   "metadata": {},
   "outputs": [
    {
     "name": "stdout",
     "output_type": "stream",
     "text": [
      "Mean Squared Error: 3403.5757216070747\n",
      "r2 score: 0.3575918767219112\n"
     ]
    }
   ],
   "source": [
    "mse = mean_squared_error(y_test, y_pred)\n",
    "r2 = r2_score(y_test, y_pred)\n",
    "\n",
    "print(f\"Mean Squared Error: {mse}\")\n",
    "print(f\"r2 score: {r2}\")"
   ]
  },
  {
   "cell_type": "code",
   "execution_count": 18,
   "id": "c418d7f5",
   "metadata": {},
   "outputs": [
    {
     "data": {
      "text/plain": [
       "age      0.000000\n",
       "sex     -0.000000\n",
       "bmi    413.431848\n",
       "bp      34.830515\n",
       "s1       0.000000\n",
       "s2       0.000000\n",
       "s3      -0.000000\n",
       "s4       0.000000\n",
       "s5     258.152894\n",
       "s6       0.000000\n",
       "dtype: float64"
      ]
     },
     "execution_count": 18,
     "metadata": {},
     "output_type": "execute_result"
    }
   ],
   "source": [
    "# Display the coefficient\n",
    "coef = pd.Series(lasso.coef_, index = x.columns)\n",
    "coef"
   ]
  },
  {
   "cell_type": "markdown",
   "id": "69449d68",
   "metadata": {},
   "source": [
    "###### we clearly see that the value of all the coefficient is reduced, we need to experiment on the value of alpha "
   ]
  },
  {
   "cell_type": "code",
   "execution_count": 19,
   "id": "ee1214b4",
   "metadata": {},
   "outputs": [
    {
     "data": {
      "text/plain": [
       "152.6639595689638"
      ]
     },
     "execution_count": 19,
     "metadata": {},
     "output_type": "execute_result"
    }
   ],
   "source": [
    "lasso.intercept_  # to find the value of intercet B0 in lasso regresion"
   ]
  },
  {
   "cell_type": "markdown",
   "id": "8dc610f1",
   "metadata": {},
   "source": [
    "### When to use lasso regression\n",
    "\n",
    "- feature selection\n",
    "- high dimentional dat\n",
    "- multicollinearity (but not much effective)\n",
    "- over fitting"
   ]
  },
  {
   "cell_type": "markdown",
   "id": "045ba816",
   "metadata": {},
   "source": [
    "## when not to use \n",
    "\n",
    "- non-linear data\n",
    "- many important feature in data\n",
    "- more computational expensive as comapared to ridge regression\n",
    "- Sparsity (zeros)"
   ]
  },
  {
   "cell_type": "markdown",
   "id": "f720f0f0",
   "metadata": {},
   "source": [
    "### Sparsity in Lasso"
   ]
  },
  {
   "cell_type": "code",
   "execution_count": 23,
   "id": "c6d9c2d3",
   "metadata": {},
   "outputs": [],
   "source": [
    "from sklearn.datasets import make_regression\n",
    "from sklearn.preprocessing import StandardScaler"
   ]
  },
  {
   "cell_type": "code",
   "execution_count": 25,
   "id": "847a9f48",
   "metadata": {},
   "outputs": [],
   "source": [
    "np.random.seed(42)"
   ]
  },
  {
   "cell_type": "code",
   "execution_count": 27,
   "id": "9f97c595",
   "metadata": {},
   "outputs": [],
   "source": [
    "x, y = make_regression( n_samples = 1000, n_features = 100, n_informative = 10, noise = 0.1, random_state = 42)\n"
   ]
  },
  {
   "cell_type": "code",
   "execution_count": 28,
   "id": "de94ca02",
   "metadata": {},
   "outputs": [
    {
     "data": {
      "text/html": [
       "<div>\n",
       "<style scoped>\n",
       "    .dataframe tbody tr th:only-of-type {\n",
       "        vertical-align: middle;\n",
       "    }\n",
       "\n",
       "    .dataframe tbody tr th {\n",
       "        vertical-align: top;\n",
       "    }\n",
       "\n",
       "    .dataframe thead th {\n",
       "        text-align: right;\n",
       "    }\n",
       "</style>\n",
       "<table border=\"1\" class=\"dataframe\">\n",
       "  <thead>\n",
       "    <tr style=\"text-align: right;\">\n",
       "      <th></th>\n",
       "      <th>feature_0</th>\n",
       "      <th>feature_1</th>\n",
       "      <th>feature_2</th>\n",
       "      <th>feature_3</th>\n",
       "      <th>feature_4</th>\n",
       "      <th>feature_5</th>\n",
       "      <th>feature_6</th>\n",
       "      <th>feature_7</th>\n",
       "      <th>feature_8</th>\n",
       "      <th>feature_9</th>\n",
       "      <th>...</th>\n",
       "      <th>feature_91</th>\n",
       "      <th>feature_92</th>\n",
       "      <th>feature_93</th>\n",
       "      <th>feature_94</th>\n",
       "      <th>feature_95</th>\n",
       "      <th>feature_96</th>\n",
       "      <th>feature_97</th>\n",
       "      <th>feature_98</th>\n",
       "      <th>feature_99</th>\n",
       "      <th>target</th>\n",
       "    </tr>\n",
       "  </thead>\n",
       "  <tbody>\n",
       "    <tr>\n",
       "      <th>0</th>\n",
       "      <td>-0.353273</td>\n",
       "      <td>-1.469201</td>\n",
       "      <td>-0.748674</td>\n",
       "      <td>0.568326</td>\n",
       "      <td>0.442359</td>\n",
       "      <td>-0.209873</td>\n",
       "      <td>0.482965</td>\n",
       "      <td>-0.086548</td>\n",
       "      <td>-0.276123</td>\n",
       "      <td>0.328453</td>\n",
       "      <td>...</td>\n",
       "      <td>-0.721595</td>\n",
       "      <td>-0.627373</td>\n",
       "      <td>2.202578</td>\n",
       "      <td>1.795924</td>\n",
       "      <td>-0.397011</td>\n",
       "      <td>1.392781</td>\n",
       "      <td>-0.719678</td>\n",
       "      <td>0.244672</td>\n",
       "      <td>-2.457507</td>\n",
       "      <td>-234.747811</td>\n",
       "    </tr>\n",
       "    <tr>\n",
       "      <th>1</th>\n",
       "      <td>0.257256</td>\n",
       "      <td>2.140309</td>\n",
       "      <td>-0.630692</td>\n",
       "      <td>-0.572608</td>\n",
       "      <td>-0.171383</td>\n",
       "      <td>0.338625</td>\n",
       "      <td>1.846603</td>\n",
       "      <td>-0.085243</td>\n",
       "      <td>-0.202000</td>\n",
       "      <td>0.927974</td>\n",
       "      <td>...</td>\n",
       "      <td>0.347883</td>\n",
       "      <td>-0.447221</td>\n",
       "      <td>-0.185935</td>\n",
       "      <td>0.549527</td>\n",
       "      <td>0.739119</td>\n",
       "      <td>-1.233837</td>\n",
       "      <td>-1.265086</td>\n",
       "      <td>-0.095604</td>\n",
       "      <td>-0.745764</td>\n",
       "      <td>51.233025</td>\n",
       "    </tr>\n",
       "    <tr>\n",
       "      <th>2</th>\n",
       "      <td>0.781233</td>\n",
       "      <td>-0.657438</td>\n",
       "      <td>1.976438</td>\n",
       "      <td>-0.169421</td>\n",
       "      <td>-0.920985</td>\n",
       "      <td>0.474556</td>\n",
       "      <td>-0.210418</td>\n",
       "      <td>0.612659</td>\n",
       "      <td>-0.205452</td>\n",
       "      <td>0.967930</td>\n",
       "      <td>...</td>\n",
       "      <td>-0.151687</td>\n",
       "      <td>-0.320438</td>\n",
       "      <td>0.389994</td>\n",
       "      <td>1.184124</td>\n",
       "      <td>-1.637070</td>\n",
       "      <td>-0.513537</td>\n",
       "      <td>1.676920</td>\n",
       "      <td>-0.630121</td>\n",
       "      <td>-1.034070</td>\n",
       "      <td>-106.716029</td>\n",
       "    </tr>\n",
       "    <tr>\n",
       "      <th>3</th>\n",
       "      <td>-2.358464</td>\n",
       "      <td>0.204154</td>\n",
       "      <td>-1.579345</td>\n",
       "      <td>0.289784</td>\n",
       "      <td>-0.174711</td>\n",
       "      <td>-0.024830</td>\n",
       "      <td>-1.862864</td>\n",
       "      <td>-0.585063</td>\n",
       "      <td>-0.133526</td>\n",
       "      <td>0.454331</td>\n",
       "      <td>...</td>\n",
       "      <td>-0.825769</td>\n",
       "      <td>-0.228151</td>\n",
       "      <td>-0.014925</td>\n",
       "      <td>0.435048</td>\n",
       "      <td>0.362451</td>\n",
       "      <td>-0.488274</td>\n",
       "      <td>0.282450</td>\n",
       "      <td>2.384598</td>\n",
       "      <td>-0.429833</td>\n",
       "      <td>-55.619155</td>\n",
       "    </tr>\n",
       "    <tr>\n",
       "      <th>4</th>\n",
       "      <td>-0.448543</td>\n",
       "      <td>1.635798</td>\n",
       "      <td>0.564842</td>\n",
       "      <td>0.211397</td>\n",
       "      <td>-0.318748</td>\n",
       "      <td>-1.472037</td>\n",
       "      <td>0.644518</td>\n",
       "      <td>0.808036</td>\n",
       "      <td>-1.389299</td>\n",
       "      <td>-0.114802</td>\n",
       "      <td>...</td>\n",
       "      <td>0.305243</td>\n",
       "      <td>-0.048965</td>\n",
       "      <td>-0.739771</td>\n",
       "      <td>-0.143259</td>\n",
       "      <td>1.040062</td>\n",
       "      <td>-1.400071</td>\n",
       "      <td>0.711411</td>\n",
       "      <td>1.122374</td>\n",
       "      <td>1.378470</td>\n",
       "      <td>-111.074505</td>\n",
       "    </tr>\n",
       "  </tbody>\n",
       "</table>\n",
       "<p>5 rows × 101 columns</p>\n",
       "</div>"
      ],
      "text/plain": [
       "   feature_0  feature_1  feature_2  feature_3  feature_4  feature_5  \\\n",
       "0  -0.353273  -1.469201  -0.748674   0.568326   0.442359  -0.209873   \n",
       "1   0.257256   2.140309  -0.630692  -0.572608  -0.171383   0.338625   \n",
       "2   0.781233  -0.657438   1.976438  -0.169421  -0.920985   0.474556   \n",
       "3  -2.358464   0.204154  -1.579345   0.289784  -0.174711  -0.024830   \n",
       "4  -0.448543   1.635798   0.564842   0.211397  -0.318748  -1.472037   \n",
       "\n",
       "   feature_6  feature_7  feature_8  feature_9  ...  feature_91  feature_92  \\\n",
       "0   0.482965  -0.086548  -0.276123   0.328453  ...   -0.721595   -0.627373   \n",
       "1   1.846603  -0.085243  -0.202000   0.927974  ...    0.347883   -0.447221   \n",
       "2  -0.210418   0.612659  -0.205452   0.967930  ...   -0.151687   -0.320438   \n",
       "3  -1.862864  -0.585063  -0.133526   0.454331  ...   -0.825769   -0.228151   \n",
       "4   0.644518   0.808036  -1.389299  -0.114802  ...    0.305243   -0.048965   \n",
       "\n",
       "   feature_93  feature_94  feature_95  feature_96  feature_97  feature_98  \\\n",
       "0    2.202578    1.795924   -0.397011    1.392781   -0.719678    0.244672   \n",
       "1   -0.185935    0.549527    0.739119   -1.233837   -1.265086   -0.095604   \n",
       "2    0.389994    1.184124   -1.637070   -0.513537    1.676920   -0.630121   \n",
       "3   -0.014925    0.435048    0.362451   -0.488274    0.282450    2.384598   \n",
       "4   -0.739771   -0.143259    1.040062   -1.400071    0.711411    1.122374   \n",
       "\n",
       "   feature_99      target  \n",
       "0   -2.457507 -234.747811  \n",
       "1   -0.745764   51.233025  \n",
       "2   -1.034070 -106.716029  \n",
       "3   -0.429833  -55.619155  \n",
       "4    1.378470 -111.074505  \n",
       "\n",
       "[5 rows x 101 columns]"
      ]
     },
     "execution_count": 28,
     "metadata": {},
     "output_type": "execute_result"
    }
   ],
   "source": [
    "feature_names = [f'feature_{i}' for i in range (x.shape[1])]\n",
    "data = pd.DataFrame(x, columns = feature_names)\n",
    "data[\"target\"] = y\n",
    "data.head()"
   ]
  },
  {
   "cell_type": "code",
   "execution_count": 29,
   "id": "55152cef",
   "metadata": {},
   "outputs": [
    {
     "data": {
      "text/plain": [
       "101"
      ]
     },
     "execution_count": 29,
     "metadata": {},
     "output_type": "execute_result"
    }
   ],
   "source": [
    "len(data.columns)"
   ]
  },
  {
   "cell_type": "code",
   "execution_count": 30,
   "id": "c79e85ab",
   "metadata": {},
   "outputs": [],
   "source": [
    "x = data.drop(\"target\", axis = 1)\n",
    "y = data[\"target\"]\n",
    "x_train, x_test, y_train, y_test = train_test_split(x,y, test_size = 0.2, random_state = 42)"
   ]
  },
  {
   "cell_type": "code",
   "execution_count": 31,
   "id": "7a8b463e",
   "metadata": {},
   "outputs": [],
   "source": [
    "scaler = StandardScaler()\n",
    "x_train_scaled = scaler.fit_transform(x_train)\n",
    "x_test_scaled = scaler.transform(x_test)"
   ]
  },
  {
   "cell_type": "code",
   "execution_count": 33,
   "id": "c3ea4034",
   "metadata": {},
   "outputs": [],
   "source": [
    "lasso = Lasso(alpha = 0.1)\n",
    "lasso.fit(x_train_scaled, y_train)\n",
    "y_pred = lasso.predict(x_test_scaled)"
   ]
  },
  {
   "cell_type": "code",
   "execution_count": 36,
   "id": "d805095a",
   "metadata": {},
   "outputs": [],
   "source": [
    "coef = pd.Series(lasso.coef_ , index = x.columns)"
   ]
  },
  {
   "cell_type": "code",
   "execution_count": 37,
   "id": "cd747b16",
   "metadata": {},
   "outputs": [
    {
     "data": {
      "text/plain": [
       "feature_0     0.0\n",
       "feature_1     0.0\n",
       "feature_2    -0.0\n",
       "feature_3     0.0\n",
       "feature_4     0.0\n",
       "             ... \n",
       "feature_95   -0.0\n",
       "feature_96   -0.0\n",
       "feature_97    0.0\n",
       "feature_98   -0.0\n",
       "feature_99   -0.0\n",
       "Length: 100, dtype: float64"
      ]
     },
     "execution_count": 37,
     "metadata": {},
     "output_type": "execute_result"
    }
   ],
   "source": [
    "coef"
   ]
  },
  {
   "cell_type": "code",
   "execution_count": 39,
   "id": "6e467d45",
   "metadata": {},
   "outputs": [
    {
     "data": {
      "text/plain": [
       "10"
      ]
     },
     "execution_count": 39,
     "metadata": {},
     "output_type": "execute_result"
    }
   ],
   "source": [
    "non_zero_coef = (coef !=0).sum()\n",
    "non_zero_coef"
   ]
  },
  {
   "cell_type": "markdown",
   "id": "f0f11c76",
   "metadata": {},
   "source": [
    "##### initially total input columns : 100\n",
    "##### non-zero coefficient columns : 10\n",
    "##### zero coefficient columns : 90"
   ]
  },
  {
   "cell_type": "code",
   "execution_count": 40,
   "id": "916edd74",
   "metadata": {},
   "outputs": [
    {
     "data": {
      "image/png": "[encoded data removed]",
      "text/plain": [
       "<Figure size 1400x600 with 1 Axes>"
      ]
     },
     "metadata": {},
     "output_type": "display_data"
    }
   ],
   "source": [
    "plt.figure(figsize = (14,6))\n",
    "coef.plot(kind = \"bar\")\n",
    "plt.title(\"Lasso Coefficient (Sparsity)\")\n",
    "plt.xlabel(\"feature\")\n",
    "plt.ylabel(\"Coefficient value\")\n",
    "plt.show()"
   ]
  }
 ],
 "metadata": {
  "kernelspec": {
   "display_name": "Python 3 (ipykernel)",
   "language": "python",
   "name": "python3"
  },
  "language_info": {
   "codemirror_mode": {
    "name": "ipython",
    "version": 3
   },
   "file_extension": ".py",
   "mimetype": "text/x-python",
   "name": "python",
   "nbconvert_exporter": "python",
   "pygments_lexer": "ipython3",
   "version": "3.10.9"
  }
 },
 "nbformat": 4,
 "nbformat_minor": 5
}
